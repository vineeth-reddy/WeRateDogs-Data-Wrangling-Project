{
 "cells": [
  {
   "cell_type": "markdown",
   "metadata": {
    "collapsed": true
   },
   "source": [
    "# Wrangle Report"
   ]
  },
  {
   "cell_type": "markdown",
   "metadata": {},
   "source": [
    "In this report I provided the wrangling efforts and cleaning the data required for the analysis."
   ]
  },
  {
   "cell_type": "markdown",
   "metadata": {},
   "source": [
    "## Data Gathering"
   ]
  },
  {
   "cell_type": "markdown",
   "metadata": {},
   "source": [
    "I gathered data from 3 sources, stored in separate files:<br>\n",
    "1. WeRateDogs Twitter Enhanced archive, manually downloaded from the Udacity servers.\n",
    "2. The image predictions file, programmatically downloaded from the Udacity servers.\n",
    "3. The entire set of each tweets’ JSON data, downloaded by querying the Twitter API using the Tweepy\n",
    "library. The favourite_count and retweet_count were extracted programmatically from this file.<br>\n",
    "I loaded the 3 raw data files into separate tables: <b>twitter_archive</b>, <b>image_predictions</b> and <b>json_tweets</b>."
   ]
  },
  {
   "cell_type": "markdown",
   "metadata": {},
   "source": [
    "## Assessment and Cleaning"
   ]
  },
  {
   "cell_type": "markdown",
   "metadata": {},
   "source": [
    "Beginning with twitter_archive dataset<br><br>\n",
    "All the rows which are retweets are removed.<br><br>\n",
    "Columns retweeted_status_id , retweeted_status_user_id and retweeted_status_timestamp are dropped as they do not provide any useful information<br><br>\n",
    "The timestamp column was converted to datetime data type.<br><br>\n",
    "The 4 dog stage columns were melted into the dog_stage column.<br><br>\n",
    "Rows with rating_numerator values less than 10 are removed.<br><br>\n",
    "tweet_id column was changed to object datatype<br><br>\n",
    "Tweets with missing values in expanded_urls , (not retweets or replies) were actually missing the urls from\n",
    "the text itself. These tweets were dropped."
   ]
  },
  {
   "cell_type": "markdown",
   "metadata": {},
   "source": [
    "The <b>image_predictions</b> dataset itself is not cleaned. Column names are changed to appropriate values and tweet_id column is changed to object datatype."
   ]
  },
  {
   "cell_type": "markdown",
   "metadata": {},
   "source": [
    "The <b>json_tweets</b> table retweet_count and favorite_count columns were merged\n",
    "into the <b>df_tweets</b> table."
   ]
  },
  {
   "cell_type": "markdown",
   "metadata": {},
   "source": [
    "Finally all three datasets were combined into a single dataset <b>twitter_archive_master.csv</b> file."
   ]
  },
  {
   "cell_type": "markdown",
   "metadata": {},
   "source": []
  },
  {
   "cell_type": "code",
   "execution_count": null,
   "metadata": {
    "collapsed": true
   },
   "outputs": [],
   "source": []
  }
 ],
 "metadata": {
  "kernelspec": {
   "display_name": "Python 3",
   "language": "python",
   "name": "python3"
  },
  "language_info": {
   "codemirror_mode": {
    "name": "ipython",
    "version": 3
   },
   "file_extension": ".py",
   "mimetype": "text/x-python",
   "name": "python",
   "nbconvert_exporter": "python",
   "pygments_lexer": "ipython3",
   "version": "3.6.3"
  }
 },
 "nbformat": 4,
 "nbformat_minor": 2
}
