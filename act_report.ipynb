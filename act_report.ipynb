{
 "cells": [
  {
   "cell_type": "markdown",
   "metadata": {},
   "source": [
    "# Act Report"
   ]
  },
  {
   "cell_type": "markdown",
   "metadata": {
    "collapsed": true
   },
   "source": [
    "## WeRateDogs Data"
   ]
  },
  {
   "cell_type": "markdown",
   "metadata": {
    "collapsed": true
   },
   "source": [
    "The <b>WeRateDogs</b> Enhanced Twitter archive contains data extracted from 2356 of the 5000+ tweets from the\n",
    "@dog_rates twitter account, posted between November 15, 2015 and August 1, 217. This data is comprised of\n",
    "dog ratings that were taken from the text of the tweet along with the dog name and dog stage if present.<br><br>\n",
    "The retweet count and favourite count for each tweet were not included in the enhanced archive, and so I had\n",
    "to download this additional data from the twitter account using the tweet ID from the archive.<br><br>\n",
    "Along with the Twitter data, I also downloaded an image predictions file from Udacity servers containing the\n",
    "top 3 predictions for dog breeds based on the images from the tweets (there can be up to 4)."
   ]
  },
  {
   "cell_type": "markdown",
   "metadata": {},
   "source": [
    "## Wrangling Data"
   ]
  },
  {
   "cell_type": "markdown",
   "metadata": {},
   "source": [
    "Before I could begin the analysis, the data had to be wrangled into shape to make it easier. I assessed the\n",
    "data both visually and programmatically for quality and tidiness; the quality of data is determined mainly by\n",
    "looking at several aspects or dimensions to ensure that it is complete, valid, accurate and consistent.<br><br>\n",
    "After cleaning many of the issues found during the assessment, there were about 1950 tweets with good\n",
    "quality data."
   ]
  },
  {
   "cell_type": "markdown",
   "metadata": {},
   "source": [
    "## Insights:"
   ]
  },
  {
   "cell_type": "markdown",
   "metadata": {},
   "source": [
    "<b>Favourite Counts Are Higher Than Retweet Counts</b><br><br>\n",
    "One of the simplest insights was that ALL tweets have higher favourite counts than retweet counts. From\n",
    "personal experience, I more likely to favourite a tweet than retweet it."
   ]
  },
  {
   "cell_type": "markdown",
   "metadata": {},
   "source": [
    "<b>Strong Relationship Between Favourite Count And Retweet Count</b><br><br>\n",
    "There is a strong relationship between a tweet’s retweet counts and favourite counts; in other words if a tweet\n",
    "has a high favourite count it will also have a high retweet count. Plotting these two values against each other\n",
    "produced the plot below, and clearly shows a high correlation by the very tight collection of points along the\n",
    "angled, straight line."
   ]
  },
  {
   "cell_type": "markdown",
   "metadata": {},
   "source": [
    "![title](i.png)"
   ]
  },
  {
   "cell_type": "markdown",
   "metadata": {},
   "source": [
    "<b>Users like Retrievers</b><br><br>\n",
    "When the images from the tweets were fed through a neural network to predict the dog breed, we got\n",
    "predictions for 85% of them, and it identified 113 different breeds. The confidence of the predictions also\n",
    "ranges a lot, and many tweets do have low levels. However, only 300 or so tweets’ images didn’t look like ‘dog’<br><br>\n",
    "Grouping all the tweets by the dog breed showed that the top 4 breeds of dogs with the most number of tweets\n",
    "are also the same as those with the highest total favourite count. There are 8 breeds in common: golden_retriever, Labrador_retriever, Pembroke,Chihuahua, pug, chow, Samoyed, and toy_poodle."
   ]
  },
  {
   "cell_type": "markdown",
   "metadata": {
    "collapsed": true
   },
   "source": [
    "<b>High Ratings</b><br><br>\n",
    "The Dataset Contains tweets with high ratings. The most given rating is 12 which is followed by 10."
   ]
  },
  {
   "cell_type": "code",
   "execution_count": null,
   "metadata": {
    "collapsed": true
   },
   "outputs": [],
   "source": []
  }
 ],
 "metadata": {
  "kernelspec": {
   "display_name": "Python 3",
   "language": "python",
   "name": "python3"
  },
  "language_info": {
   "codemirror_mode": {
    "name": "ipython",
    "version": 3
   },
   "file_extension": ".py",
   "mimetype": "text/x-python",
   "name": "python",
   "nbconvert_exporter": "python",
   "pygments_lexer": "ipython3",
   "version": "3.6.3"
  }
 },
 "nbformat": 4,
 "nbformat_minor": 2
}
